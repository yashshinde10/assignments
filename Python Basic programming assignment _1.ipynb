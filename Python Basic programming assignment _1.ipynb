{
 "cells": [
  {
   "cell_type": "markdown",
   "id": "c74e680c",
   "metadata": {},
   "source": [
    "# Python Programming Basic Assignment\n",
    "\n",
    "Programming Assignment_1\n",
    "\n"
   ]
  },
  {
   "cell_type": "markdown",
   "id": "a338a31a",
   "metadata": {},
   "source": [
    "1. Write a Python program to print “Hello Python”?\n",
    "\n"
   ]
  },
  {
   "cell_type": "code",
   "execution_count": 1,
   "id": "7c96595e",
   "metadata": {},
   "outputs": [
    {
     "name": "stdout",
     "output_type": "stream",
     "text": [
      "Hello Python\n"
     ]
    }
   ],
   "source": [
    "print(\"Hello Python\") #print is python in-built function used to print data inside parenthesis."
   ]
  },
  {
   "cell_type": "markdown",
   "id": "54e63667",
   "metadata": {},
   "source": [
    "2. Write a Python program to do arithmetical operations addition and division? "
   ]
  },
  {
   "cell_type": "code",
   "execution_count": 4,
   "id": "b3147433",
   "metadata": {},
   "outputs": [
    {
     "name": "stdout",
     "output_type": "stream",
     "text": [
      "8\n",
      "3.0\n"
     ]
    }
   ],
   "source": [
    "# addition operation performed.\n",
    "a = 5\n",
    "b = 3\n",
    "c = a + b\n",
    "print(c)\n",
    "\n",
    "# divison operation performed.\n",
    "a = 9 \n",
    "b = 3 \n",
    "c = a/b\n",
    "print(c)"
   ]
  },
  {
   "cell_type": "markdown",
   "id": "bb4f2d67",
   "metadata": {},
   "source": [
    "3. Write a Python program to find the area of a triangle? "
   ]
  },
  {
   "cell_type": "code",
   "execution_count": 6,
   "id": "410480bb",
   "metadata": {},
   "outputs": [
    {
     "name": "stdout",
     "output_type": "stream",
     "text": [
      "Enter first side: 4\n",
      "Enter second side: 5\n",
      "Enter third side: 6\n",
      "The area of the triangle is 8.39\n"
     ]
    }
   ],
   "source": [
    "# To take inputs from the user\n",
    "a = float(input(\"Enter first side: \"))\n",
    "b = float(input(\"Enter second side: \"))\n",
    "c = float(input(\"Enter third side: \"))\n",
    "\n",
    "# Calculating the semi-perimeter \n",
    "s = (a + b + c)/2\n",
    "\n",
    "# Calculate the area\n",
    "area = (s*(s-b)*(s-b)*(s-c)) ** 0.5\n",
    "print(\"The area of the triangle is %0.2f\" %area)"
   ]
  },
  {
   "cell_type": "markdown",
   "id": "6974a637",
   "metadata": {},
   "source": [
    "4. Write a Python program to swap two variables?"
   ]
  },
  {
   "cell_type": "code",
   "execution_count": 7,
   "id": "e5b9559c",
   "metadata": {},
   "outputs": [
    {
     "name": "stdout",
     "output_type": "stream",
     "text": [
      "The value of x after swapping: 10\n",
      "The value of y after swapping: 5\n"
     ]
    }
   ],
   "source": [
    "x = 5\n",
    "y = 10\n",
    "\n",
    "# create a temporary variable and swap the values \n",
    "temp = x \n",
    "x = y\n",
    "y = temp \n",
    "\n",
    "print(\"The value of x after swapping: {}\".format(x))\n",
    "print(\"The value of y after swapping: {}\".format(y))"
   ]
  },
  {
   "cell_type": "markdown",
   "id": "12750691",
   "metadata": {},
   "source": [
    "5. Write a Python program to generate a random number?"
   ]
  },
  {
   "cell_type": "code",
   "execution_count": 9,
   "id": "3e3b3891",
   "metadata": {},
   "outputs": [
    {
     "name": "stdout",
     "output_type": "stream",
     "text": [
      "7\n"
     ]
    }
   ],
   "source": [
    "# importing the random module\n",
    "import random \n",
    "\n",
    "print(random.randint(0,10))"
   ]
  },
  {
   "cell_type": "code",
   "execution_count": null,
   "id": "fb10c9b7",
   "metadata": {},
   "outputs": [],
   "source": []
  }
 ],
 "metadata": {
  "kernelspec": {
   "display_name": "Python 3 (ipykernel)",
   "language": "python",
   "name": "python3"
  },
  "language_info": {
   "codemirror_mode": {
    "name": "ipython",
    "version": 3
   },
   "file_extension": ".py",
   "mimetype": "text/x-python",
   "name": "python",
   "nbconvert_exporter": "python",
   "pygments_lexer": "ipython3",
   "version": "3.9.1"
  }
 },
 "nbformat": 4,
 "nbformat_minor": 5
}
